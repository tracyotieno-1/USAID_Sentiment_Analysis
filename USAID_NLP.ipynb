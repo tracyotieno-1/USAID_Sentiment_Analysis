{
 "cells": [
  {
   "cell_type": "markdown",
   "metadata": {},
   "source": [
    "# USAID Sentiment Analysis"
   ]
  },
  {
   "cell_type": "markdown",
   "metadata": {},
   "source": [
    "## Importing Libraries"
   ]
  },
  {
   "cell_type": "code",
   "execution_count": 45,
   "metadata": {},
   "outputs": [
    {
     "name": "stderr",
     "output_type": "stream",
     "text": [
      "[nltk_data] Downloading package stopwords to\n",
      "[nltk_data]     C:\\Users\\perpe/nltk_data...\n",
      "[nltk_data]   Package stopwords is already up-to-date!\n"
     ]
    },
    {
     "data": {
      "text/plain": [
       "True"
      ]
     },
     "execution_count": 45,
     "metadata": {},
     "output_type": "execute_result"
    }
   ],
   "source": [
    "import pandas as pd\n",
    "import matplotlib.pyplot as plt\n",
    "\n",
    "import re\n",
    "\n",
    "import string\n",
    "from string import punctuation\n",
    "from textblob import TextBlob\n",
    "\n",
    "from nltk.corpus import stopwords\n",
    "import nltk\n",
    "\n",
    "nltk.download('stopwords')"
   ]
  },
  {
   "cell_type": "markdown",
   "metadata": {},
   "source": [
    "## Data Staging"
   ]
  },
  {
   "cell_type": "code",
   "execution_count": 3,
   "metadata": {},
   "outputs": [
    {
     "data": {
      "text/html": [
       "<div>\n",
       "<style scoped>\n",
       "    .dataframe tbody tr th:only-of-type {\n",
       "        vertical-align: middle;\n",
       "    }\n",
       "\n",
       "    .dataframe tbody tr th {\n",
       "        vertical-align: top;\n",
       "    }\n",
       "\n",
       "    .dataframe thead th {\n",
       "        text-align: right;\n",
       "    }\n",
       "</style>\n",
       "<table border=\"1\" class=\"dataframe\">\n",
       "  <thead>\n",
       "    <tr style=\"text-align: right;\">\n",
       "      <th></th>\n",
       "      <th>Post ID</th>\n",
       "      <th>region</th>\n",
       "      <th>Text</th>\n",
       "      <th>title</th>\n",
       "      <th>Author</th>\n",
       "      <th>subreddit</th>\n",
       "      <th>score</th>\n",
       "      <th>Upvote Ratio</th>\n",
       "      <th>Number of Comments</th>\n",
       "      <th>Created At</th>\n",
       "      <th>url</th>\n",
       "      <th>Created Timestamp</th>\n",
       "      <th>comments</th>\n",
       "      <th>Unnamed: 13</th>\n",
       "    </tr>\n",
       "  </thead>\n",
       "  <tbody>\n",
       "    <tr>\n",
       "      <th>0</th>\n",
       "      <td>1iis138</td>\n",
       "      <td>Africa</td>\n",
       "      <td>NaN</td>\n",
       "      <td>The Real Reason Musk is After USAID: They Help...</td>\n",
       "      <td>shake1010</td>\n",
       "      <td>MarchAgainstNazis</td>\n",
       "      <td>860</td>\n",
       "      <td>0.99</td>\n",
       "      <td>21</td>\n",
       "      <td>1738808995</td>\n",
       "      <td>https://i.redd.it/arjpjejvjfhe1.jpeg</td>\n",
       "      <td>2/6/2025 2:29</td>\n",
       "      <td>Welcome to /r/MarchAgainstNazis!  \\n\\n**Please...</td>\n",
       "      <td>NaN</td>\n",
       "    </tr>\n",
       "    <tr>\n",
       "      <th>1</th>\n",
       "      <td>1iiontm</td>\n",
       "      <td>Africa</td>\n",
       "      <td>NaN</td>\n",
       "      <td>Usaid Delivering Foreign Aid to starving child...</td>\n",
       "      <td>trailer8k</td>\n",
       "      <td>Trailerclub</td>\n",
       "      <td>1</td>\n",
       "      <td>1</td>\n",
       "      <td>0</td>\n",
       "      <td>1738799255</td>\n",
       "      <td>https://v.redd.it/w5xmfqsvqehe1</td>\n",
       "      <td>2/5/2025 23:47</td>\n",
       "      <td>NaN</td>\n",
       "      <td>NaN</td>\n",
       "    </tr>\n",
       "    <tr>\n",
       "      <th>2</th>\n",
       "      <td>1iinl7c</td>\n",
       "      <td>Africa</td>\n",
       "      <td>How USAid has been spending taxpayer money\\n\\n...</td>\n",
       "      <td>How has USAID been spending taxpayer money?</td>\n",
       "      <td>ProtectedHologram</td>\n",
       "      <td>conspiracy</td>\n",
       "      <td>38</td>\n",
       "      <td>0.75</td>\n",
       "      <td>33</td>\n",
       "      <td>1738796394</td>\n",
       "      <td>https://www.reddit.com/r/conspiracy/comments/1...</td>\n",
       "      <td>2/5/2025 22:59</td>\n",
       "      <td>###[Meta] Sticky Comment\\n\\n[Rule 2](https://w...</td>\n",
       "      <td>NaN</td>\n",
       "    </tr>\n",
       "    <tr>\n",
       "      <th>3</th>\n",
       "      <td>1iini2u</td>\n",
       "      <td>Africa</td>\n",
       "      <td>NaN</td>\n",
       "      <td>Here's my list of exposed corrupt money launde...</td>\n",
       "      <td>Believe_143</td>\n",
       "      <td>LibTears</td>\n",
       "      <td>183</td>\n",
       "      <td>0.99</td>\n",
       "      <td>23</td>\n",
       "      <td>1738796165</td>\n",
       "      <td>https://i.redd.it/qt4m216qhehe1.jpeg</td>\n",
       "      <td>2/5/2025 22:56</td>\n",
       "      <td>And yet...hurricane victims in NC and fire vic...</td>\n",
       "      <td>NaN</td>\n",
       "    </tr>\n",
       "    <tr>\n",
       "      <th>4</th>\n",
       "      <td>1iijyzc</td>\n",
       "      <td>Africa</td>\n",
       "      <td>Source: https://x.com/kenklippenstein/status/1...</td>\n",
       "      <td>Some people say that USAIDâs aid is exclusiv...</td>\n",
       "      <td>SnooAdvice725</td>\n",
       "      <td>Lebanese</td>\n",
       "      <td>123</td>\n",
       "      <td>0.98</td>\n",
       "      <td>12</td>\n",
       "      <td>1738787376</td>\n",
       "      <td>https://i.redd.it/esuop84lrdhe1.jpeg</td>\n",
       "      <td>2/5/2025 20:29</td>\n",
       "      <td>So they're interfering in international politi...</td>\n",
       "      <td>NaN</td>\n",
       "    </tr>\n",
       "  </tbody>\n",
       "</table>\n",
       "</div>"
      ],
      "text/plain": [
       "   Post ID  region                                               Text  \\\n",
       "0  1iis138  Africa                                                NaN   \n",
       "1  1iiontm  Africa                                                NaN   \n",
       "2  1iinl7c  Africa  How USAid has been spending taxpayer money\\n\\n...   \n",
       "3  1iini2u  Africa                                                NaN   \n",
       "4  1iijyzc  Africa  Source: https://x.com/kenklippenstein/status/1...   \n",
       "\n",
       "                                               title             Author  \\\n",
       "0  The Real Reason Musk is After USAID: They Help...          shake1010   \n",
       "1  Usaid Delivering Foreign Aid to starving child...          trailer8k   \n",
       "2        How has USAID been spending taxpayer money?  ProtectedHologram   \n",
       "3  Here's my list of exposed corrupt money launde...        Believe_143   \n",
       "4  Some people say that USAIDâs aid is exclusiv...      SnooAdvice725   \n",
       "\n",
       "           subreddit score Upvote Ratio Number of Comments  Created At  \\\n",
       "0  MarchAgainstNazis   860         0.99                 21  1738808995   \n",
       "1        Trailerclub     1            1                  0  1738799255   \n",
       "2         conspiracy    38         0.75                 33  1738796394   \n",
       "3           LibTears   183         0.99                 23  1738796165   \n",
       "4           Lebanese   123         0.98                 12  1738787376   \n",
       "\n",
       "                                                 url Created Timestamp  \\\n",
       "0               https://i.redd.it/arjpjejvjfhe1.jpeg     2/6/2025 2:29   \n",
       "1                    https://v.redd.it/w5xmfqsvqehe1    2/5/2025 23:47   \n",
       "2  https://www.reddit.com/r/conspiracy/comments/1...    2/5/2025 22:59   \n",
       "3               https://i.redd.it/qt4m216qhehe1.jpeg    2/5/2025 22:56   \n",
       "4               https://i.redd.it/esuop84lrdhe1.jpeg    2/5/2025 20:29   \n",
       "\n",
       "                                            comments Unnamed: 13  \n",
       "0  Welcome to /r/MarchAgainstNazis!  \\n\\n**Please...         NaN  \n",
       "1                                                NaN         NaN  \n",
       "2  ###[Meta] Sticky Comment\\n\\n[Rule 2](https://w...         NaN  \n",
       "3  And yet...hurricane victims in NC and fire vic...         NaN  \n",
       "4  So they're interfering in international politi...         NaN  "
      ]
     },
     "execution_count": 3,
     "metadata": {},
     "output_type": "execute_result"
    }
   ],
   "source": [
    "df = pd.read_csv(\"usaid_reddit_posts_New.csv\", encoding='latin1')\n",
    "df.head()"
   ]
  },
  {
   "cell_type": "markdown",
   "metadata": {},
   "source": [
    "## Data Understanding"
   ]
  },
  {
   "cell_type": "code",
   "execution_count": 4,
   "metadata": {},
   "outputs": [],
   "source": [
    "# Merge the 'Text', 'title', and 'comments' columns into a new column called 'merged text'\n",
    "df['merged text'] = df[['Text', 'title', 'comments']].apply(lambda x: ' '.join(x.dropna()), axis=1)"
   ]
  },
  {
   "cell_type": "code",
   "execution_count": 5,
   "metadata": {},
   "outputs": [
    {
     "data": {
      "text/plain": [
       "(1299, 15)"
      ]
     },
     "execution_count": 5,
     "metadata": {},
     "output_type": "execute_result"
    }
   ],
   "source": [
    "df.shape"
   ]
  },
  {
   "cell_type": "code",
   "execution_count": 6,
   "metadata": {},
   "outputs": [
    {
     "name": "stdout",
     "output_type": "stream",
     "text": [
      "<class 'pandas.core.frame.DataFrame'>\n",
      "RangeIndex: 1299 entries, 0 to 1298\n",
      "Data columns (total 15 columns):\n",
      " #   Column              Non-Null Count  Dtype \n",
      "---  ------              --------------  ----- \n",
      " 0   Post ID             1299 non-null   object\n",
      " 1   region              1299 non-null   object\n",
      " 2   Text                1018 non-null   object\n",
      " 3   title               1298 non-null   object\n",
      " 4   Author              1298 non-null   object\n",
      " 5   subreddit           1298 non-null   object\n",
      " 6   score               1298 non-null   object\n",
      " 7   Upvote Ratio        1298 non-null   object\n",
      " 8   Number of Comments  1298 non-null   object\n",
      " 9   Created At          1298 non-null   object\n",
      " 10  url                 1298 non-null   object\n",
      " 11  Created Timestamp   1297 non-null   object\n",
      " 12  comments            800 non-null    object\n",
      " 13  Unnamed: 13         1 non-null      object\n",
      " 14  merged text         1299 non-null   object\n",
      "dtypes: object(15)\n",
      "memory usage: 152.4+ KB\n"
     ]
    }
   ],
   "source": [
    "df.info()"
   ]
  },
  {
   "cell_type": "code",
   "execution_count": 7,
   "metadata": {},
   "outputs": [
    {
     "data": {
      "text/plain": [
       "Index(['Post ID', 'region', 'Text', 'title', 'Author', 'subreddit', 'score',\n",
       "       'Upvote Ratio', 'Number of Comments', 'Created At', 'url',\n",
       "       'Created Timestamp', 'comments', 'Unnamed: 13', 'merged text'],\n",
       "      dtype='object')"
      ]
     },
     "execution_count": 7,
     "metadata": {},
     "output_type": "execute_result"
    }
   ],
   "source": [
    "df.columns"
   ]
  },
  {
   "cell_type": "code",
   "execution_count": 8,
   "metadata": {},
   "outputs": [
    {
     "data": {
      "text/html": [
       "<div>\n",
       "<style scoped>\n",
       "    .dataframe tbody tr th:only-of-type {\n",
       "        vertical-align: middle;\n",
       "    }\n",
       "\n",
       "    .dataframe tbody tr th {\n",
       "        vertical-align: top;\n",
       "    }\n",
       "\n",
       "    .dataframe thead th {\n",
       "        text-align: right;\n",
       "    }\n",
       "</style>\n",
       "<table border=\"1\" class=\"dataframe\">\n",
       "  <thead>\n",
       "    <tr style=\"text-align: right;\">\n",
       "      <th></th>\n",
       "      <th>region</th>\n",
       "      <th>Upvote Ratio</th>\n",
       "      <th>Number of Comments</th>\n",
       "      <th>merged text</th>\n",
       "    </tr>\n",
       "  </thead>\n",
       "  <tbody>\n",
       "    <tr>\n",
       "      <th>0</th>\n",
       "      <td>Africa</td>\n",
       "      <td>0.99</td>\n",
       "      <td>21</td>\n",
       "      <td>The Real Reason Musk is After USAID: They Help...</td>\n",
       "    </tr>\n",
       "    <tr>\n",
       "      <th>1</th>\n",
       "      <td>Africa</td>\n",
       "      <td>1</td>\n",
       "      <td>0</td>\n",
       "      <td>Usaid Delivering Foreign Aid to starving child...</td>\n",
       "    </tr>\n",
       "    <tr>\n",
       "      <th>2</th>\n",
       "      <td>Africa</td>\n",
       "      <td>0.75</td>\n",
       "      <td>33</td>\n",
       "      <td>How USAid has been spending taxpayer money\\n\\n...</td>\n",
       "    </tr>\n",
       "    <tr>\n",
       "      <th>3</th>\n",
       "      <td>Africa</td>\n",
       "      <td>0.99</td>\n",
       "      <td>23</td>\n",
       "      <td>Here's my list of exposed corrupt money launde...</td>\n",
       "    </tr>\n",
       "    <tr>\n",
       "      <th>4</th>\n",
       "      <td>Africa</td>\n",
       "      <td>0.98</td>\n",
       "      <td>12</td>\n",
       "      <td>Source: https://x.com/kenklippenstein/status/1...</td>\n",
       "    </tr>\n",
       "  </tbody>\n",
       "</table>\n",
       "</div>"
      ],
      "text/plain": [
       "   region Upvote Ratio Number of Comments  \\\n",
       "0  Africa         0.99                 21   \n",
       "1  Africa            1                  0   \n",
       "2  Africa         0.75                 33   \n",
       "3  Africa         0.99                 23   \n",
       "4  Africa         0.98                 12   \n",
       "\n",
       "                                         merged text  \n",
       "0  The Real Reason Musk is After USAID: They Help...  \n",
       "1  Usaid Delivering Foreign Aid to starving child...  \n",
       "2  How USAid has been spending taxpayer money\\n\\n...  \n",
       "3  Here's my list of exposed corrupt money launde...  \n",
       "4  Source: https://x.com/kenklippenstein/status/1...  "
      ]
     },
     "execution_count": 8,
     "metadata": {},
     "output_type": "execute_result"
    }
   ],
   "source": [
    "df = df.drop(columns = ['Post ID', 'Text', 'title', 'Author', 'subreddit', 'score',\n",
    "'Created At', 'url','Created Timestamp', 'comments', 'Unnamed: 13'])\n",
    "df.head()"
   ]
  },
  {
   "cell_type": "code",
   "execution_count": 9,
   "metadata": {},
   "outputs": [
    {
     "data": {
      "text/plain": [
       "region                0\n",
       "Upvote Ratio          1\n",
       "Number of Comments    1\n",
       "merged text           0\n",
       "dtype: int64"
      ]
     },
     "execution_count": 9,
     "metadata": {},
     "output_type": "execute_result"
    }
   ],
   "source": [
    "df.isnull().sum()"
   ]
  },
  {
   "cell_type": "code",
   "execution_count": 10,
   "metadata": {},
   "outputs": [
    {
     "data": {
      "text/plain": [
       "(region                0\n",
       " Upvote Ratio          0\n",
       " Number of Comments    0\n",
       " merged text           0\n",
       " dtype: int64,\n",
       " (1298, 4))"
      ]
     },
     "execution_count": 10,
     "metadata": {},
     "output_type": "execute_result"
    }
   ],
   "source": [
    "df = df.dropna()\n",
    "df.isnull().sum(), df.shape"
   ]
  },
  {
   "cell_type": "code",
   "execution_count": 11,
   "metadata": {},
   "outputs": [
    {
     "data": {
      "text/plain": [
       "14"
      ]
     },
     "execution_count": 11,
     "metadata": {},
     "output_type": "execute_result"
    }
   ],
   "source": [
    "df.duplicated().sum()"
   ]
  },
  {
   "cell_type": "code",
   "execution_count": 12,
   "metadata": {},
   "outputs": [
    {
     "data": {
      "text/html": [
       "<div>\n",
       "<style scoped>\n",
       "    .dataframe tbody tr th:only-of-type {\n",
       "        vertical-align: middle;\n",
       "    }\n",
       "\n",
       "    .dataframe tbody tr th {\n",
       "        vertical-align: top;\n",
       "    }\n",
       "\n",
       "    .dataframe thead th {\n",
       "        text-align: right;\n",
       "    }\n",
       "</style>\n",
       "<table border=\"1\" class=\"dataframe\">\n",
       "  <thead>\n",
       "    <tr style=\"text-align: right;\">\n",
       "      <th></th>\n",
       "      <th>region</th>\n",
       "      <th>Upvote Ratio</th>\n",
       "      <th>Number of Comments</th>\n",
       "      <th>merged text</th>\n",
       "    </tr>\n",
       "  </thead>\n",
       "  <tbody>\n",
       "    <tr>\n",
       "      <th>52</th>\n",
       "      <td>Africa</td>\n",
       "      <td>1</td>\n",
       "      <td>0</td>\n",
       "      <td>[Politics] - How Donald Trump's USAID pause th...</td>\n",
       "    </tr>\n",
       "    <tr>\n",
       "      <th>54</th>\n",
       "      <td>Africa</td>\n",
       "      <td>1</td>\n",
       "      <td>0</td>\n",
       "      <td>[Politics] - How Donald Trump's USAID pause th...</td>\n",
       "    </tr>\n",
       "    <tr>\n",
       "      <th>243</th>\n",
       "      <td>Middle East</td>\n",
       "      <td>1</td>\n",
       "      <td>0</td>\n",
       "      <td>Trump proposes taking over the Gaza strip, bui...</td>\n",
       "    </tr>\n",
       "    <tr>\n",
       "      <th>248</th>\n",
       "      <td>Middle East</td>\n",
       "      <td>1</td>\n",
       "      <td>0</td>\n",
       "      <td>Trump proposes taking over the Gaza strip, bui...</td>\n",
       "    </tr>\n",
       "    <tr>\n",
       "      <th>249</th>\n",
       "      <td>Middle East</td>\n",
       "      <td>1</td>\n",
       "      <td>0</td>\n",
       "      <td>Trump proposes taking over the Gaza strip, bui...</td>\n",
       "    </tr>\n",
       "  </tbody>\n",
       "</table>\n",
       "</div>"
      ],
      "text/plain": [
       "          region Upvote Ratio Number of Comments  \\\n",
       "52        Africa            1                  0   \n",
       "54        Africa            1                  0   \n",
       "243  Middle East            1                  0   \n",
       "248  Middle East            1                  0   \n",
       "249  Middle East            1                  0   \n",
       "\n",
       "                                           merged text  \n",
       "52   [Politics] - How Donald Trump's USAID pause th...  \n",
       "54   [Politics] - How Donald Trump's USAID pause th...  \n",
       "243  Trump proposes taking over the Gaza strip, bui...  \n",
       "248  Trump proposes taking over the Gaza strip, bui...  \n",
       "249  Trump proposes taking over the Gaza strip, bui...  "
      ]
     },
     "execution_count": 12,
     "metadata": {},
     "output_type": "execute_result"
    }
   ],
   "source": [
    "# Identify and display duplicated rows\n",
    "duplicated_rows = df[df.duplicated()]\n",
    "duplicated_rows.head()"
   ]
  },
  {
   "cell_type": "code",
   "execution_count": 13,
   "metadata": {},
   "outputs": [
    {
     "data": {
      "text/plain": [
       "0"
      ]
     },
     "execution_count": 13,
     "metadata": {},
     "output_type": "execute_result"
    }
   ],
   "source": [
    "df = df.drop_duplicates()\n",
    "df.duplicated().sum()"
   ]
  },
  {
   "cell_type": "code",
   "execution_count": 14,
   "metadata": {},
   "outputs": [
    {
     "data": {
      "text/plain": [
       "(1284, 4)"
      ]
     },
     "execution_count": 14,
     "metadata": {},
     "output_type": "execute_result"
    }
   ],
   "source": [
    "df.shape"
   ]
  },
  {
   "cell_type": "markdown",
   "metadata": {},
   "source": [
    "## Sentiment Preprocessing"
   ]
  },
  {
   "cell_type": "markdown",
   "metadata": {},
   "source": [
    "### Removing Tags"
   ]
  },
  {
   "cell_type": "code",
   "execution_count": 16,
   "metadata": {},
   "outputs": [],
   "source": [
    "def remove_tags(raw_text):\n",
    "    cleaned_text = re.sub(re.compile('<.*?>'), '', str(raw_text))\n",
    "    return cleaned_text"
   ]
  },
  {
   "cell_type": "code",
   "execution_count": 17,
   "metadata": {},
   "outputs": [],
   "source": [
    "df['cleaned_text'] = df['merged text'].apply(remove_tags)"
   ]
  },
  {
   "cell_type": "code",
   "execution_count": 18,
   "metadata": {},
   "outputs": [
    {
     "data": {
      "text/html": [
       "<div>\n",
       "<style scoped>\n",
       "    .dataframe tbody tr th:only-of-type {\n",
       "        vertical-align: middle;\n",
       "    }\n",
       "\n",
       "    .dataframe tbody tr th {\n",
       "        vertical-align: top;\n",
       "    }\n",
       "\n",
       "    .dataframe thead th {\n",
       "        text-align: right;\n",
       "    }\n",
       "</style>\n",
       "<table border=\"1\" class=\"dataframe\">\n",
       "  <thead>\n",
       "    <tr style=\"text-align: right;\">\n",
       "      <th></th>\n",
       "      <th>region</th>\n",
       "      <th>Upvote Ratio</th>\n",
       "      <th>Number of Comments</th>\n",
       "      <th>merged text</th>\n",
       "      <th>cleaned_text</th>\n",
       "    </tr>\n",
       "  </thead>\n",
       "  <tbody>\n",
       "    <tr>\n",
       "      <th>0</th>\n",
       "      <td>Africa</td>\n",
       "      <td>0.99</td>\n",
       "      <td>21</td>\n",
       "      <td>The Real Reason Musk is After USAID: They Help...</td>\n",
       "      <td>The Real Reason Musk is After USAID: They Help...</td>\n",
       "    </tr>\n",
       "    <tr>\n",
       "      <th>1</th>\n",
       "      <td>Africa</td>\n",
       "      <td>1</td>\n",
       "      <td>0</td>\n",
       "      <td>Usaid Delivering Foreign Aid to starving child...</td>\n",
       "      <td>Usaid Delivering Foreign Aid to starving child...</td>\n",
       "    </tr>\n",
       "    <tr>\n",
       "      <th>2</th>\n",
       "      <td>Africa</td>\n",
       "      <td>0.75</td>\n",
       "      <td>33</td>\n",
       "      <td>How USAid has been spending taxpayer money\\n\\n...</td>\n",
       "      <td>How USAid has been spending taxpayer money\\n\\n...</td>\n",
       "    </tr>\n",
       "    <tr>\n",
       "      <th>3</th>\n",
       "      <td>Africa</td>\n",
       "      <td>0.99</td>\n",
       "      <td>23</td>\n",
       "      <td>Here's my list of exposed corrupt money launde...</td>\n",
       "      <td>Here's my list of exposed corrupt money launde...</td>\n",
       "    </tr>\n",
       "    <tr>\n",
       "      <th>4</th>\n",
       "      <td>Africa</td>\n",
       "      <td>0.98</td>\n",
       "      <td>12</td>\n",
       "      <td>Source: https://x.com/kenklippenstein/status/1...</td>\n",
       "      <td>Source: https://x.com/kenklippenstein/status/1...</td>\n",
       "    </tr>\n",
       "  </tbody>\n",
       "</table>\n",
       "</div>"
      ],
      "text/plain": [
       "   region Upvote Ratio Number of Comments  \\\n",
       "0  Africa         0.99                 21   \n",
       "1  Africa            1                  0   \n",
       "2  Africa         0.75                 33   \n",
       "3  Africa         0.99                 23   \n",
       "4  Africa         0.98                 12   \n",
       "\n",
       "                                         merged text  \\\n",
       "0  The Real Reason Musk is After USAID: They Help...   \n",
       "1  Usaid Delivering Foreign Aid to starving child...   \n",
       "2  How USAid has been spending taxpayer money\\n\\n...   \n",
       "3  Here's my list of exposed corrupt money launde...   \n",
       "4  Source: https://x.com/kenklippenstein/status/1...   \n",
       "\n",
       "                                        cleaned_text  \n",
       "0  The Real Reason Musk is After USAID: They Help...  \n",
       "1  Usaid Delivering Foreign Aid to starving child...  \n",
       "2  How USAid has been spending taxpayer money\\n\\n...  \n",
       "3  Here's my list of exposed corrupt money launde...  \n",
       "4  Source: https://x.com/kenklippenstein/status/1...  "
      ]
     },
     "execution_count": 18,
     "metadata": {},
     "output_type": "execute_result"
    }
   ],
   "source": [
    "df.head()"
   ]
  },
  {
   "cell_type": "markdown",
   "metadata": {},
   "source": [
    "### Removing URLS"
   ]
  },
  {
   "cell_type": "code",
   "execution_count": 19,
   "metadata": {},
   "outputs": [],
   "source": [
    "def remove_urls(text):\n",
    "    pattern = re.compile(r'https?://\\S+|www\\.\\S+|http?://\\S+')\n",
    "    return pattern.sub(r'', text)"
   ]
  },
  {
   "cell_type": "code",
   "execution_count": 20,
   "metadata": {},
   "outputs": [],
   "source": [
    "df['cleaned_text'] = df['cleaned_text'].apply(remove_urls)"
   ]
  },
  {
   "cell_type": "code",
   "execution_count": 21,
   "metadata": {},
   "outputs": [
    {
     "data": {
      "text/html": [
       "<div>\n",
       "<style scoped>\n",
       "    .dataframe tbody tr th:only-of-type {\n",
       "        vertical-align: middle;\n",
       "    }\n",
       "\n",
       "    .dataframe tbody tr th {\n",
       "        vertical-align: top;\n",
       "    }\n",
       "\n",
       "    .dataframe thead th {\n",
       "        text-align: right;\n",
       "    }\n",
       "</style>\n",
       "<table border=\"1\" class=\"dataframe\">\n",
       "  <thead>\n",
       "    <tr style=\"text-align: right;\">\n",
       "      <th></th>\n",
       "      <th>region</th>\n",
       "      <th>Upvote Ratio</th>\n",
       "      <th>Number of Comments</th>\n",
       "      <th>merged text</th>\n",
       "      <th>cleaned_text</th>\n",
       "    </tr>\n",
       "  </thead>\n",
       "  <tbody>\n",
       "    <tr>\n",
       "      <th>0</th>\n",
       "      <td>Africa</td>\n",
       "      <td>0.99</td>\n",
       "      <td>21</td>\n",
       "      <td>The Real Reason Musk is After USAID: They Help...</td>\n",
       "      <td>The Real Reason Musk is After USAID: They Help...</td>\n",
       "    </tr>\n",
       "    <tr>\n",
       "      <th>1</th>\n",
       "      <td>Africa</td>\n",
       "      <td>1</td>\n",
       "      <td>0</td>\n",
       "      <td>Usaid Delivering Foreign Aid to starving child...</td>\n",
       "      <td>Usaid Delivering Foreign Aid to starving child...</td>\n",
       "    </tr>\n",
       "    <tr>\n",
       "      <th>2</th>\n",
       "      <td>Africa</td>\n",
       "      <td>0.75</td>\n",
       "      <td>33</td>\n",
       "      <td>How USAid has been spending taxpayer money\\n\\n...</td>\n",
       "      <td>How USAid has been spending taxpayer money\\n\\n...</td>\n",
       "    </tr>\n",
       "    <tr>\n",
       "      <th>3</th>\n",
       "      <td>Africa</td>\n",
       "      <td>0.99</td>\n",
       "      <td>23</td>\n",
       "      <td>Here's my list of exposed corrupt money launde...</td>\n",
       "      <td>Here's my list of exposed corrupt money launde...</td>\n",
       "    </tr>\n",
       "    <tr>\n",
       "      <th>4</th>\n",
       "      <td>Africa</td>\n",
       "      <td>0.98</td>\n",
       "      <td>12</td>\n",
       "      <td>Source: https://x.com/kenklippenstein/status/1...</td>\n",
       "      <td>Source:  Some people say that USAIDâs aid is...</td>\n",
       "    </tr>\n",
       "  </tbody>\n",
       "</table>\n",
       "</div>"
      ],
      "text/plain": [
       "   region Upvote Ratio Number of Comments  \\\n",
       "0  Africa         0.99                 21   \n",
       "1  Africa            1                  0   \n",
       "2  Africa         0.75                 33   \n",
       "3  Africa         0.99                 23   \n",
       "4  Africa         0.98                 12   \n",
       "\n",
       "                                         merged text  \\\n",
       "0  The Real Reason Musk is After USAID: They Help...   \n",
       "1  Usaid Delivering Foreign Aid to starving child...   \n",
       "2  How USAid has been spending taxpayer money\\n\\n...   \n",
       "3  Here's my list of exposed corrupt money launde...   \n",
       "4  Source: https://x.com/kenklippenstein/status/1...   \n",
       "\n",
       "                                        cleaned_text  \n",
       "0  The Real Reason Musk is After USAID: They Help...  \n",
       "1  Usaid Delivering Foreign Aid to starving child...  \n",
       "2  How USAid has been spending taxpayer money\\n\\n...  \n",
       "3  Here's my list of exposed corrupt money launde...  \n",
       "4  Source:  Some people say that USAIDâs aid is...  "
      ]
     },
     "execution_count": 21,
     "metadata": {},
     "output_type": "execute_result"
    }
   ],
   "source": [
    "df.head()"
   ]
  },
  {
   "cell_type": "markdown",
   "metadata": {},
   "source": [
    "### Removing Unecessary Characters"
   ]
  },
  {
   "cell_type": "code",
   "execution_count": 22,
   "metadata": {},
   "outputs": [],
   "source": [
    "def remove_unnecessary_characters(text):\n",
    "    text = re.sub(r'[^a-zA-Z0-9\\s]', '', str(text))\n",
    "    text = re.sub(r'\\s+', ' ', str(text)).strip()\n",
    "    return text"
   ]
  },
  {
   "cell_type": "code",
   "execution_count": 23,
   "metadata": {},
   "outputs": [],
   "source": [
    "df['cleaned_text'] = df['cleaned_text'].apply(remove_unnecessary_characters)"
   ]
  },
  {
   "cell_type": "code",
   "execution_count": 24,
   "metadata": {},
   "outputs": [
    {
     "data": {
      "text/html": [
       "<div>\n",
       "<style scoped>\n",
       "    .dataframe tbody tr th:only-of-type {\n",
       "        vertical-align: middle;\n",
       "    }\n",
       "\n",
       "    .dataframe tbody tr th {\n",
       "        vertical-align: top;\n",
       "    }\n",
       "\n",
       "    .dataframe thead th {\n",
       "        text-align: right;\n",
       "    }\n",
       "</style>\n",
       "<table border=\"1\" class=\"dataframe\">\n",
       "  <thead>\n",
       "    <tr style=\"text-align: right;\">\n",
       "      <th></th>\n",
       "      <th>region</th>\n",
       "      <th>Upvote Ratio</th>\n",
       "      <th>Number of Comments</th>\n",
       "      <th>merged text</th>\n",
       "      <th>cleaned_text</th>\n",
       "    </tr>\n",
       "  </thead>\n",
       "  <tbody>\n",
       "    <tr>\n",
       "      <th>0</th>\n",
       "      <td>Africa</td>\n",
       "      <td>0.99</td>\n",
       "      <td>21</td>\n",
       "      <td>The Real Reason Musk is After USAID: They Help...</td>\n",
       "      <td>The Real Reason Musk is After USAID They Helpe...</td>\n",
       "    </tr>\n",
       "    <tr>\n",
       "      <th>1</th>\n",
       "      <td>Africa</td>\n",
       "      <td>1</td>\n",
       "      <td>0</td>\n",
       "      <td>Usaid Delivering Foreign Aid to starving child...</td>\n",
       "      <td>Usaid Delivering Foreign Aid to starving child...</td>\n",
       "    </tr>\n",
       "    <tr>\n",
       "      <th>2</th>\n",
       "      <td>Africa</td>\n",
       "      <td>0.75</td>\n",
       "      <td>33</td>\n",
       "      <td>How USAid has been spending taxpayer money\\n\\n...</td>\n",
       "      <td>How USAid has been spending taxpayer money 79 ...</td>\n",
       "    </tr>\n",
       "    <tr>\n",
       "      <th>3</th>\n",
       "      <td>Africa</td>\n",
       "      <td>0.99</td>\n",
       "      <td>23</td>\n",
       "      <td>Here's my list of exposed corrupt money launde...</td>\n",
       "      <td>Heres my list of exposed corrupt money launder...</td>\n",
       "    </tr>\n",
       "    <tr>\n",
       "      <th>4</th>\n",
       "      <td>Africa</td>\n",
       "      <td>0.98</td>\n",
       "      <td>12</td>\n",
       "      <td>Source: https://x.com/kenklippenstein/status/1...</td>\n",
       "      <td>Source Some people say that USAIDs aid is excl...</td>\n",
       "    </tr>\n",
       "  </tbody>\n",
       "</table>\n",
       "</div>"
      ],
      "text/plain": [
       "   region Upvote Ratio Number of Comments  \\\n",
       "0  Africa         0.99                 21   \n",
       "1  Africa            1                  0   \n",
       "2  Africa         0.75                 33   \n",
       "3  Africa         0.99                 23   \n",
       "4  Africa         0.98                 12   \n",
       "\n",
       "                                         merged text  \\\n",
       "0  The Real Reason Musk is After USAID: They Help...   \n",
       "1  Usaid Delivering Foreign Aid to starving child...   \n",
       "2  How USAid has been spending taxpayer money\\n\\n...   \n",
       "3  Here's my list of exposed corrupt money launde...   \n",
       "4  Source: https://x.com/kenklippenstein/status/1...   \n",
       "\n",
       "                                        cleaned_text  \n",
       "0  The Real Reason Musk is After USAID They Helpe...  \n",
       "1  Usaid Delivering Foreign Aid to starving child...  \n",
       "2  How USAid has been spending taxpayer money 79 ...  \n",
       "3  Heres my list of exposed corrupt money launder...  \n",
       "4  Source Some people say that USAIDs aid is excl...  "
      ]
     },
     "execution_count": 24,
     "metadata": {},
     "output_type": "execute_result"
    }
   ],
   "source": [
    "df.head()"
   ]
  },
  {
   "cell_type": "markdown",
   "metadata": {},
   "source": [
    "### Making all the Text in Lower case"
   ]
  },
  {
   "cell_type": "code",
   "execution_count": 25,
   "metadata": {},
   "outputs": [],
   "source": [
    "df['cleaned_text'] = df['cleaned_text'].apply(lambda x:str(x).lower())"
   ]
  },
  {
   "cell_type": "code",
   "execution_count": 26,
   "metadata": {},
   "outputs": [
    {
     "data": {
      "text/html": [
       "<div>\n",
       "<style scoped>\n",
       "    .dataframe tbody tr th:only-of-type {\n",
       "        vertical-align: middle;\n",
       "    }\n",
       "\n",
       "    .dataframe tbody tr th {\n",
       "        vertical-align: top;\n",
       "    }\n",
       "\n",
       "    .dataframe thead th {\n",
       "        text-align: right;\n",
       "    }\n",
       "</style>\n",
       "<table border=\"1\" class=\"dataframe\">\n",
       "  <thead>\n",
       "    <tr style=\"text-align: right;\">\n",
       "      <th></th>\n",
       "      <th>region</th>\n",
       "      <th>Upvote Ratio</th>\n",
       "      <th>Number of Comments</th>\n",
       "      <th>merged text</th>\n",
       "      <th>cleaned_text</th>\n",
       "    </tr>\n",
       "  </thead>\n",
       "  <tbody>\n",
       "    <tr>\n",
       "      <th>0</th>\n",
       "      <td>Africa</td>\n",
       "      <td>0.99</td>\n",
       "      <td>21</td>\n",
       "      <td>The Real Reason Musk is After USAID: They Help...</td>\n",
       "      <td>the real reason musk is after usaid they helpe...</td>\n",
       "    </tr>\n",
       "    <tr>\n",
       "      <th>1</th>\n",
       "      <td>Africa</td>\n",
       "      <td>1</td>\n",
       "      <td>0</td>\n",
       "      <td>Usaid Delivering Foreign Aid to starving child...</td>\n",
       "      <td>usaid delivering foreign aid to starving child...</td>\n",
       "    </tr>\n",
       "    <tr>\n",
       "      <th>2</th>\n",
       "      <td>Africa</td>\n",
       "      <td>0.75</td>\n",
       "      <td>33</td>\n",
       "      <td>How USAid has been spending taxpayer money\\n\\n...</td>\n",
       "      <td>how usaid has been spending taxpayer money 79 ...</td>\n",
       "    </tr>\n",
       "  </tbody>\n",
       "</table>\n",
       "</div>"
      ],
      "text/plain": [
       "   region Upvote Ratio Number of Comments  \\\n",
       "0  Africa         0.99                 21   \n",
       "1  Africa            1                  0   \n",
       "2  Africa         0.75                 33   \n",
       "\n",
       "                                         merged text  \\\n",
       "0  The Real Reason Musk is After USAID: They Help...   \n",
       "1  Usaid Delivering Foreign Aid to starving child...   \n",
       "2  How USAid has been spending taxpayer money\\n\\n...   \n",
       "\n",
       "                                        cleaned_text  \n",
       "0  the real reason musk is after usaid they helpe...  \n",
       "1  usaid delivering foreign aid to starving child...  \n",
       "2  how usaid has been spending taxpayer money 79 ...  "
      ]
     },
     "execution_count": 26,
     "metadata": {},
     "output_type": "execute_result"
    }
   ],
   "source": [
    "df.head(3)\n"
   ]
  },
  {
   "cell_type": "code",
   "execution_count": 27,
   "metadata": {},
   "outputs": [],
   "source": [
    "exclude = string.punctuation\n",
    "exclude\n",
    "\n",
    "def remove_punc1(text):\n",
    "    return text.translate(str.maketrans('', '', exclude))"
   ]
  },
  {
   "cell_type": "code",
   "execution_count": 28,
   "metadata": {},
   "outputs": [],
   "source": [
    "df['cleaned_text'] = df['cleaned_text'].apply(remove_punc1)"
   ]
  },
  {
   "cell_type": "code",
   "execution_count": 29,
   "metadata": {},
   "outputs": [
    {
     "data": {
      "text/html": [
       "<div>\n",
       "<style scoped>\n",
       "    .dataframe tbody tr th:only-of-type {\n",
       "        vertical-align: middle;\n",
       "    }\n",
       "\n",
       "    .dataframe tbody tr th {\n",
       "        vertical-align: top;\n",
       "    }\n",
       "\n",
       "    .dataframe thead th {\n",
       "        text-align: right;\n",
       "    }\n",
       "</style>\n",
       "<table border=\"1\" class=\"dataframe\">\n",
       "  <thead>\n",
       "    <tr style=\"text-align: right;\">\n",
       "      <th></th>\n",
       "      <th>region</th>\n",
       "      <th>Upvote Ratio</th>\n",
       "      <th>Number of Comments</th>\n",
       "      <th>merged text</th>\n",
       "      <th>cleaned_text</th>\n",
       "    </tr>\n",
       "  </thead>\n",
       "  <tbody>\n",
       "    <tr>\n",
       "      <th>0</th>\n",
       "      <td>Africa</td>\n",
       "      <td>0.99</td>\n",
       "      <td>21</td>\n",
       "      <td>The Real Reason Musk is After USAID: They Help...</td>\n",
       "      <td>the real reason musk is after usaid they helpe...</td>\n",
       "    </tr>\n",
       "    <tr>\n",
       "      <th>1</th>\n",
       "      <td>Africa</td>\n",
       "      <td>1</td>\n",
       "      <td>0</td>\n",
       "      <td>Usaid Delivering Foreign Aid to starving child...</td>\n",
       "      <td>usaid delivering foreign aid to starving child...</td>\n",
       "    </tr>\n",
       "    <tr>\n",
       "      <th>2</th>\n",
       "      <td>Africa</td>\n",
       "      <td>0.75</td>\n",
       "      <td>33</td>\n",
       "      <td>How USAid has been spending taxpayer money\\n\\n...</td>\n",
       "      <td>how usaid has been spending taxpayer money 79 ...</td>\n",
       "    </tr>\n",
       "    <tr>\n",
       "      <th>3</th>\n",
       "      <td>Africa</td>\n",
       "      <td>0.99</td>\n",
       "      <td>23</td>\n",
       "      <td>Here's my list of exposed corrupt money launde...</td>\n",
       "      <td>heres my list of exposed corrupt money launder...</td>\n",
       "    </tr>\n",
       "    <tr>\n",
       "      <th>4</th>\n",
       "      <td>Africa</td>\n",
       "      <td>0.98</td>\n",
       "      <td>12</td>\n",
       "      <td>Source: https://x.com/kenklippenstein/status/1...</td>\n",
       "      <td>source some people say that usaids aid is excl...</td>\n",
       "    </tr>\n",
       "  </tbody>\n",
       "</table>\n",
       "</div>"
      ],
      "text/plain": [
       "   region Upvote Ratio Number of Comments  \\\n",
       "0  Africa         0.99                 21   \n",
       "1  Africa            1                  0   \n",
       "2  Africa         0.75                 33   \n",
       "3  Africa         0.99                 23   \n",
       "4  Africa         0.98                 12   \n",
       "\n",
       "                                         merged text  \\\n",
       "0  The Real Reason Musk is After USAID: They Help...   \n",
       "1  Usaid Delivering Foreign Aid to starving child...   \n",
       "2  How USAid has been spending taxpayer money\\n\\n...   \n",
       "3  Here's my list of exposed corrupt money launde...   \n",
       "4  Source: https://x.com/kenklippenstein/status/1...   \n",
       "\n",
       "                                        cleaned_text  \n",
       "0  the real reason musk is after usaid they helpe...  \n",
       "1  usaid delivering foreign aid to starving child...  \n",
       "2  how usaid has been spending taxpayer money 79 ...  \n",
       "3  heres my list of exposed corrupt money launder...  \n",
       "4  source some people say that usaids aid is excl...  "
      ]
     },
     "execution_count": 29,
     "metadata": {},
     "output_type": "execute_result"
    }
   ],
   "source": [
    "df.head()"
   ]
  },
  {
   "cell_type": "markdown",
   "metadata": {},
   "source": [
    "### Removing Stepwords From Dataset"
   ]
  },
  {
   "cell_type": "code",
   "execution_count": 31,
   "metadata": {},
   "outputs": [],
   "source": [
    "sw_list = stopwords.words('english')\n",
    "\n",
    "df['cleaned_text'] = df['cleaned_text'].apply(lambda x: [item for item in x.split() if item not in sw_list]).apply(lambda x:\" \".join(x))"
   ]
  },
  {
   "cell_type": "code",
   "execution_count": 32,
   "metadata": {},
   "outputs": [
    {
     "data": {
      "text/html": [
       "<div>\n",
       "<style scoped>\n",
       "    .dataframe tbody tr th:only-of-type {\n",
       "        vertical-align: middle;\n",
       "    }\n",
       "\n",
       "    .dataframe tbody tr th {\n",
       "        vertical-align: top;\n",
       "    }\n",
       "\n",
       "    .dataframe thead th {\n",
       "        text-align: right;\n",
       "    }\n",
       "</style>\n",
       "<table border=\"1\" class=\"dataframe\">\n",
       "  <thead>\n",
       "    <tr style=\"text-align: right;\">\n",
       "      <th></th>\n",
       "      <th>region</th>\n",
       "      <th>Upvote Ratio</th>\n",
       "      <th>Number of Comments</th>\n",
       "      <th>merged text</th>\n",
       "      <th>cleaned_text</th>\n",
       "    </tr>\n",
       "  </thead>\n",
       "  <tbody>\n",
       "    <tr>\n",
       "      <th>0</th>\n",
       "      <td>Africa</td>\n",
       "      <td>0.99</td>\n",
       "      <td>21</td>\n",
       "      <td>The Real Reason Musk is After USAID: They Help...</td>\n",
       "      <td>real reason musk usaid helped end apartheid so...</td>\n",
       "    </tr>\n",
       "    <tr>\n",
       "      <th>1</th>\n",
       "      <td>Africa</td>\n",
       "      <td>1</td>\n",
       "      <td>0</td>\n",
       "      <td>Usaid Delivering Foreign Aid to starving child...</td>\n",
       "      <td>usaid delivering foreign aid starving children...</td>\n",
       "    </tr>\n",
       "    <tr>\n",
       "      <th>2</th>\n",
       "      <td>Africa</td>\n",
       "      <td>0.75</td>\n",
       "      <td>33</td>\n",
       "      <td>How USAid has been spending taxpayer money\\n\\n...</td>\n",
       "      <td>usaid spending taxpayer money 79 million teach...</td>\n",
       "    </tr>\n",
       "    <tr>\n",
       "      <th>3</th>\n",
       "      <td>Africa</td>\n",
       "      <td>0.99</td>\n",
       "      <td>23</td>\n",
       "      <td>Here's my list of exposed corrupt money launde...</td>\n",
       "      <td>heres list exposed corrupt money laundering fu...</td>\n",
       "    </tr>\n",
       "    <tr>\n",
       "      <th>4</th>\n",
       "      <td>Africa</td>\n",
       "      <td>0.98</td>\n",
       "      <td>12</td>\n",
       "      <td>Source: https://x.com/kenklippenstein/status/1...</td>\n",
       "      <td>source people say usaids aid exclusively human...</td>\n",
       "    </tr>\n",
       "  </tbody>\n",
       "</table>\n",
       "</div>"
      ],
      "text/plain": [
       "   region Upvote Ratio Number of Comments  \\\n",
       "0  Africa         0.99                 21   \n",
       "1  Africa            1                  0   \n",
       "2  Africa         0.75                 33   \n",
       "3  Africa         0.99                 23   \n",
       "4  Africa         0.98                 12   \n",
       "\n",
       "                                         merged text  \\\n",
       "0  The Real Reason Musk is After USAID: They Help...   \n",
       "1  Usaid Delivering Foreign Aid to starving child...   \n",
       "2  How USAid has been spending taxpayer money\\n\\n...   \n",
       "3  Here's my list of exposed corrupt money launde...   \n",
       "4  Source: https://x.com/kenklippenstein/status/1...   \n",
       "\n",
       "                                        cleaned_text  \n",
       "0  real reason musk usaid helped end apartheid so...  \n",
       "1  usaid delivering foreign aid starving children...  \n",
       "2  usaid spending taxpayer money 79 million teach...  \n",
       "3  heres list exposed corrupt money laundering fu...  \n",
       "4  source people say usaids aid exclusively human...  "
      ]
     },
     "execution_count": 32,
     "metadata": {},
     "output_type": "execute_result"
    }
   ],
   "source": [
    "df.head()"
   ]
  },
  {
   "cell_type": "markdown",
   "metadata": {},
   "source": [
    "### Normalizing the Dataset"
   ]
  },
  {
   "cell_type": "code",
   "execution_count": 33,
   "metadata": {},
   "outputs": [],
   "source": [
    "def normalize_text(text):\n",
    "    if isinstance(text, str):\n",
    "        text = re.sub(r'[^\\w\\s]', '', text)\n",
    "        text = re.sub(r'\\s+', ' ', text).strip()\n",
    "    else:\n",
    "        text = str(text)\n",
    "    return text\n",
    "df['cleaned_text'] = df['cleaned_text'].apply(normalize_text)"
   ]
  },
  {
   "cell_type": "code",
   "execution_count": 35,
   "metadata": {},
   "outputs": [
    {
     "data": {
      "text/html": [
       "<div>\n",
       "<style scoped>\n",
       "    .dataframe tbody tr th:only-of-type {\n",
       "        vertical-align: middle;\n",
       "    }\n",
       "\n",
       "    .dataframe tbody tr th {\n",
       "        vertical-align: top;\n",
       "    }\n",
       "\n",
       "    .dataframe thead th {\n",
       "        text-align: right;\n",
       "    }\n",
       "</style>\n",
       "<table border=\"1\" class=\"dataframe\">\n",
       "  <thead>\n",
       "    <tr style=\"text-align: right;\">\n",
       "      <th></th>\n",
       "      <th>region</th>\n",
       "      <th>Upvote Ratio</th>\n",
       "      <th>Number of Comments</th>\n",
       "      <th>merged text</th>\n",
       "      <th>cleaned_text</th>\n",
       "    </tr>\n",
       "  </thead>\n",
       "  <tbody>\n",
       "    <tr>\n",
       "      <th>0</th>\n",
       "      <td>Africa</td>\n",
       "      <td>0.99</td>\n",
       "      <td>21</td>\n",
       "      <td>The Real Reason Musk is After USAID: They Help...</td>\n",
       "      <td>real reason musk usaid helped end apartheid so...</td>\n",
       "    </tr>\n",
       "    <tr>\n",
       "      <th>1</th>\n",
       "      <td>Africa</td>\n",
       "      <td>1</td>\n",
       "      <td>0</td>\n",
       "      <td>Usaid Delivering Foreign Aid to starving child...</td>\n",
       "      <td>usaid delivering foreign aid starving children...</td>\n",
       "    </tr>\n",
       "    <tr>\n",
       "      <th>2</th>\n",
       "      <td>Africa</td>\n",
       "      <td>0.75</td>\n",
       "      <td>33</td>\n",
       "      <td>How USAid has been spending taxpayer money\\n\\n...</td>\n",
       "      <td>usaid spending taxpayer money 79 million teach...</td>\n",
       "    </tr>\n",
       "    <tr>\n",
       "      <th>3</th>\n",
       "      <td>Africa</td>\n",
       "      <td>0.99</td>\n",
       "      <td>23</td>\n",
       "      <td>Here's my list of exposed corrupt money launde...</td>\n",
       "      <td>heres list exposed corrupt money laundering fu...</td>\n",
       "    </tr>\n",
       "    <tr>\n",
       "      <th>4</th>\n",
       "      <td>Africa</td>\n",
       "      <td>0.98</td>\n",
       "      <td>12</td>\n",
       "      <td>Source: https://x.com/kenklippenstein/status/1...</td>\n",
       "      <td>source people say usaids aid exclusively human...</td>\n",
       "    </tr>\n",
       "  </tbody>\n",
       "</table>\n",
       "</div>"
      ],
      "text/plain": [
       "   region Upvote Ratio Number of Comments  \\\n",
       "0  Africa         0.99                 21   \n",
       "1  Africa            1                  0   \n",
       "2  Africa         0.75                 33   \n",
       "3  Africa         0.99                 23   \n",
       "4  Africa         0.98                 12   \n",
       "\n",
       "                                         merged text  \\\n",
       "0  The Real Reason Musk is After USAID: They Help...   \n",
       "1  Usaid Delivering Foreign Aid to starving child...   \n",
       "2  How USAid has been spending taxpayer money\\n\\n...   \n",
       "3  Here's my list of exposed corrupt money launde...   \n",
       "4  Source: https://x.com/kenklippenstein/status/1...   \n",
       "\n",
       "                                        cleaned_text  \n",
       "0  real reason musk usaid helped end apartheid so...  \n",
       "1  usaid delivering foreign aid starving children...  \n",
       "2  usaid spending taxpayer money 79 million teach...  \n",
       "3  heres list exposed corrupt money laundering fu...  \n",
       "4  source people say usaids aid exclusively human...  "
      ]
     },
     "execution_count": 35,
     "metadata": {},
     "output_type": "execute_result"
    }
   ],
   "source": [
    "df.head()"
   ]
  },
  {
   "cell_type": "markdown",
   "metadata": {},
   "source": [
    "### Sentence Polarity"
   ]
  },
  {
   "cell_type": "code",
   "execution_count": 37,
   "metadata": {},
   "outputs": [],
   "source": [
    "def checkPostiveOrNegativeSentence(sentence):\n",
    "    text = sentence.strip().lower()\n",
    "    sentiment = TextBlob(text).sentiment\n",
    "    if sentiment.polarity > 0:\n",
    "        return \"Positive 😊\"\n",
    "    elif sentiment.polarity < 0:\n",
    "        return \"Negative 😠\"\n",
    "    else:\n",
    "        return \"Neutral 😐\""
   ]
  },
  {
   "cell_type": "code",
   "execution_count": 38,
   "metadata": {},
   "outputs": [],
   "source": [
    "df['Sentiment'] = df['cleaned_text'].apply(checkPostiveOrNegativeSentence)"
   ]
  },
  {
   "cell_type": "code",
   "execution_count": 39,
   "metadata": {},
   "outputs": [
    {
     "data": {
      "text/html": [
       "<div>\n",
       "<style scoped>\n",
       "    .dataframe tbody tr th:only-of-type {\n",
       "        vertical-align: middle;\n",
       "    }\n",
       "\n",
       "    .dataframe tbody tr th {\n",
       "        vertical-align: top;\n",
       "    }\n",
       "\n",
       "    .dataframe thead th {\n",
       "        text-align: right;\n",
       "    }\n",
       "</style>\n",
       "<table border=\"1\" class=\"dataframe\">\n",
       "  <thead>\n",
       "    <tr style=\"text-align: right;\">\n",
       "      <th></th>\n",
       "      <th>region</th>\n",
       "      <th>Upvote Ratio</th>\n",
       "      <th>Number of Comments</th>\n",
       "      <th>merged text</th>\n",
       "      <th>cleaned_text</th>\n",
       "      <th>Sentiment</th>\n",
       "    </tr>\n",
       "  </thead>\n",
       "  <tbody>\n",
       "    <tr>\n",
       "      <th>0</th>\n",
       "      <td>Africa</td>\n",
       "      <td>0.99</td>\n",
       "      <td>21</td>\n",
       "      <td>The Real Reason Musk is After USAID: They Help...</td>\n",
       "      <td>real reason musk usaid helped end apartheid so...</td>\n",
       "      <td>Positive 😊</td>\n",
       "    </tr>\n",
       "    <tr>\n",
       "      <th>1</th>\n",
       "      <td>Africa</td>\n",
       "      <td>1</td>\n",
       "      <td>0</td>\n",
       "      <td>Usaid Delivering Foreign Aid to starving child...</td>\n",
       "      <td>usaid delivering foreign aid starving children...</td>\n",
       "      <td>Negative 😠</td>\n",
       "    </tr>\n",
       "    <tr>\n",
       "      <th>2</th>\n",
       "      <td>Africa</td>\n",
       "      <td>0.75</td>\n",
       "      <td>33</td>\n",
       "      <td>How USAid has been spending taxpayer money\\n\\n...</td>\n",
       "      <td>usaid spending taxpayer money 79 million teach...</td>\n",
       "      <td>Positive 😊</td>\n",
       "    </tr>\n",
       "    <tr>\n",
       "      <th>3</th>\n",
       "      <td>Africa</td>\n",
       "      <td>0.99</td>\n",
       "      <td>23</td>\n",
       "      <td>Here's my list of exposed corrupt money launde...</td>\n",
       "      <td>heres list exposed corrupt money laundering fu...</td>\n",
       "      <td>Negative 😠</td>\n",
       "    </tr>\n",
       "    <tr>\n",
       "      <th>4</th>\n",
       "      <td>Africa</td>\n",
       "      <td>0.98</td>\n",
       "      <td>12</td>\n",
       "      <td>Source: https://x.com/kenklippenstein/status/1...</td>\n",
       "      <td>source people say usaids aid exclusively human...</td>\n",
       "      <td>Positive 😊</td>\n",
       "    </tr>\n",
       "  </tbody>\n",
       "</table>\n",
       "</div>"
      ],
      "text/plain": [
       "   region Upvote Ratio Number of Comments  \\\n",
       "0  Africa         0.99                 21   \n",
       "1  Africa            1                  0   \n",
       "2  Africa         0.75                 33   \n",
       "3  Africa         0.99                 23   \n",
       "4  Africa         0.98                 12   \n",
       "\n",
       "                                         merged text  \\\n",
       "0  The Real Reason Musk is After USAID: They Help...   \n",
       "1  Usaid Delivering Foreign Aid to starving child...   \n",
       "2  How USAid has been spending taxpayer money\\n\\n...   \n",
       "3  Here's my list of exposed corrupt money launde...   \n",
       "4  Source: https://x.com/kenklippenstein/status/1...   \n",
       "\n",
       "                                        cleaned_text   Sentiment  \n",
       "0  real reason musk usaid helped end apartheid so...  Positive 😊  \n",
       "1  usaid delivering foreign aid starving children...  Negative 😠  \n",
       "2  usaid spending taxpayer money 79 million teach...  Positive 😊  \n",
       "3  heres list exposed corrupt money laundering fu...  Negative 😠  \n",
       "4  source people say usaids aid exclusively human...  Positive 😊  "
      ]
     },
     "execution_count": 39,
     "metadata": {},
     "output_type": "execute_result"
    }
   ],
   "source": [
    "df.head()"
   ]
  },
  {
   "cell_type": "code",
   "execution_count": 41,
   "metadata": {},
   "outputs": [
    {
     "data": {
      "text/plain": [
       "(1284, 6)"
      ]
     },
     "execution_count": 41,
     "metadata": {},
     "output_type": "execute_result"
    }
   ],
   "source": [
    "df.shape"
   ]
  },
  {
   "cell_type": "markdown",
   "metadata": {},
   "source": [
    "## EDA"
   ]
  },
  {
   "cell_type": "code",
   "execution_count": 46,
   "metadata": {},
   "outputs": [
    {
     "name": "stdout",
     "output_type": "stream",
     "text": [
      "Class distribution:\n",
      "Sentiment\n",
      "Positive 😊    998\n",
      "Negative 😠    187\n",
      "Neutral 😐      99\n",
      "Name: count, dtype: int64\n",
      "\n",
      "Text length stats:\n",
      "count     1284.000000\n",
      "mean      4155.781153\n",
      "std       5483.444872\n",
      "min          0.000000\n",
      "25%        456.750000\n",
      "50%       1776.500000\n",
      "75%       5162.250000\n",
      "max      41026.000000\n",
      "Name: text_length, dtype: float64\n"
     ]
    },
    {
     "data": {
      "image/png": "[encoded data removed]",
      "text/plain": [
       "<Figure size 640x480 with 1 Axes>"
      ]
     },
     "metadata": {},
     "output_type": "display_data"
    }
   ],
   "source": [
    "# Perform Exploratory Data Analysis (EDA)\n",
    "def perform_eda(data):\n",
    "    # Check class distribution\n",
    "    print(\"Class distribution:\")\n",
    "    print(df['Sentiment'].value_counts())\n",
    "\n",
    "    # Text length analysis\n",
    "    df['text_length'] = df['cleaned_text'].apply(len)\n",
    "    print(\"\\nText length stats:\")\n",
    "    print(df['text_length'].describe())\n",
    "\n",
    "    # Visualize class distribution\n",
    "    df['Sentiment'].value_counts().plot(kind='bar', title=\"Class Distribution\")\n",
    "    plt.show()\n",
    "perform_eda(df)"
   ]
  },
  {
   "cell_type": "code",
   "execution_count": null,
   "metadata": {},
   "outputs": [],
   "source": []
  }
 ],
 "metadata": {
  "kernelspec": {
   "display_name": "base",
   "language": "python",
   "name": "python3"
  },
  "language_info": {
   "codemirror_mode": {
    "name": "ipython",
    "version": 3
   },
   "file_extension": ".py",
   "mimetype": "text/x-python",
   "name": "python",
   "nbconvert_exporter": "python",
   "pygments_lexer": "ipython3",
   "version": "3.11.7"
  }
 },
 "nbformat": 4,
 "nbformat_minor": 2
}
